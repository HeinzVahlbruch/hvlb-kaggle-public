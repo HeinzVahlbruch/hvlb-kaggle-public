{
 "cells": [
  {
   "cell_type": "code",
   "execution_count": 1,
   "id": "d8c13fa9",
   "metadata": {
    "_cell_guid": "b1076dfc-b9ad-4769-8c92-a6c4dae69d19",
    "_uuid": "8f2839f25d086af736a60e9eeb907d3b93b6e0e5",
    "execution": {
     "iopub.execute_input": "2023-02-12T01:46:42.156574Z",
     "iopub.status.busy": "2023-02-12T01:46:42.155591Z",
     "iopub.status.idle": "2023-02-12T01:46:42.168290Z",
     "shell.execute_reply": "2023-02-12T01:46:42.167243Z"
    },
    "papermill": {
     "duration": 0.019574,
     "end_time": "2023-02-12T01:46:42.170880",
     "exception": false,
     "start_time": "2023-02-12T01:46:42.151306",
     "status": "completed"
    },
    "tags": []
   },
   "outputs": [],
   "source": [
    "import numpy as np\n",
    "import pandas as pd\n",
    "\n",
    "\n"
   ]
  }
 ],
 "metadata": {
  "kernelspec": {
   "display_name": "Python 3",
   "language": "python",
   "name": "python3"
  },
  "language_info": {
   "codemirror_mode": {
    "name": "ipython",
    "version": 3
   },
   "file_extension": ".py",
   "mimetype": "text/x-python",
   "name": "python",
   "nbconvert_exporter": "python",
   "pygments_lexer": "ipython3",
   "version": "3.7.12"
  },
  "papermill": {
   "default_parameters": {},
   "duration": 12.169473,
   "end_time": "2023-02-12T01:46:42.896123",
   "environment_variables": {},
   "exception": null,
   "input_path": "__notebook__.ipynb",
   "output_path": "__notebook__.ipynb",
   "parameters": {},
   "start_time": "2023-02-12T01:46:30.726650",
   "version": "2.3.4"
  }
 },
 "nbformat": 4,
 "nbformat_minor": 5
}
